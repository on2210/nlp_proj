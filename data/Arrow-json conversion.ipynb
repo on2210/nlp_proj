{
 "cells": [
  {
   "cell_type": "code",
   "execution_count": 13,
   "id": "8b37d8d2",
   "metadata": {},
   "outputs": [],
   "source": [
    "import json\n",
    "import torch\n",
    "import numpy as np\n",
    "from datasets import load_from_disk"
   ]
  },
  {
   "cell_type": "code",
   "execution_count": 2,
   "id": "1f729573",
   "metadata": {},
   "outputs": [],
   "source": [
    "def subgroup_resample(dataset, rate: float, label_key: str):\n",
    "    labels = np.array(dataset[label_key])\n",
    "\n",
    "    sampled_indices = []\n",
    "    for lbl in np.unique(labels):\n",
    "        idxs = np.where(labels == lbl)[0]\n",
    "        chosen = np.random.choice(idxs, size=int(idxs.size * rate), replace=False)\n",
    "        sampled_indices.extend(chosen.tolist())\n",
    "\n",
    "    return dataset.select(sampled_indices)"
   ]
  },
  {
   "cell_type": "code",
   "execution_count": 3,
   "id": "b73861d1",
   "metadata": {},
   "outputs": [],
   "source": [
    "def convert_dataset_format(dataset_arrow_path: str, label_key: str, dataset_name: str, rate: float = 0.1):\n",
    "    dataset = load_from_disk(dataset_arrow_path)\n",
    "    dataset = subgroup_resample(dataset, rate, label_key)\n",
    "    \n",
    "    tokens = dataset['tokens']\n",
    "    torch.save(tokens, f\"./{dataset_name}_tokens.pt\")\n",
    "    \n",
    "    labels = dataset[label_key]\n",
    "    processed_samples = len(dataset) * [None]\n",
    "    for i in range(len(dataset)):\n",
    "        processed_samples[i] = {\n",
    "            'subject': f'{i}'\n",
    "            , 'object': labels[i]\n",
    "        }\n",
    "\n",
    "    dataset_dict = {\n",
    "        'name': dataset_name\n",
    "        , 'prompt_templates': []\n",
    "        , 'samples': processed_samples\n",
    "    }\n",
    "    save_json = f\"./{dataset_name}.json\"\n",
    "    with open(save_json, \"w\") as f:\n",
    "        json.dump(dataset_dict, f)\n"
   ]
  },
  {
   "cell_type": "code",
   "execution_count": 4,
   "id": "2c6de723",
   "metadata": {},
   "outputs": [],
   "source": [
    "dataset_arrow_path = r\"C:\\Users\\97254\\OneDrive\\שולחן העבודה\\Projects\\llm-context-neurons\\data\\europarl_lang\"\n",
    "label_key = 'language'\n",
    "dataset_name = 'europarl_lang'\n",
    "\n",
    "convert_dataset_format(dataset_arrow_path, label_key, dataset_name)"
   ]
  },
  {
   "cell_type": "code",
   "execution_count": 5,
   "id": "e66047fd",
   "metadata": {},
   "outputs": [],
   "source": [
    "dataset_arrow_path = r\"C:\\Users\\97254\\OneDrive\\שולחן העבודה\\Projects\\llm-context-neurons\\data\\pile_data_source\"\n",
    "label_key = 'distribution'\n",
    "dataset_name = 'pile_data_source'\n",
    "\n",
    "convert_dataset_format(dataset_arrow_path, label_key, dataset_name)"
   ]
  },
  {
   "cell_type": "code",
   "execution_count": 14,
   "id": "70aebd69",
   "metadata": {},
   "outputs": [
    {
     "data": {
      "text/plain": [
       "['Arrow-json conversion.ipynb',\n",
       " 'centuries_300.json',\n",
       " 'europarl_lang.json',\n",
       " 'europarl_lang_tokens.pt',\n",
       " 'landmarks_450.json',\n",
       " 'music.json',\n",
       " 'pile_data_source.json',\n",
       " 'pile_data_source_tokens.pt']"
      ]
     },
     "execution_count": 14,
     "metadata": {},
     "output_type": "execute_result"
    }
   ],
   "source": [
    "import os\n",
    "os.listdir()"
   ]
  },
  {
   "cell_type": "code",
   "execution_count": 25,
   "id": "75b8a314",
   "metadata": {},
   "outputs": [
    {
     "name": "stdout",
     "output_type": "stream",
     "text": [
      "enron              46\n",
      "hackernews         69\n",
      "wikipedia          73\n",
      "stack_exchange     86\n",
      "uspto             105\n",
      "github            106\n",
      "freelaw           156\n",
      "arxiv             190\n",
      "dtype: int64\n"
     ]
    }
   ],
   "source": [
    "import json\n",
    "import pandas as pd\n",
    "with open('pile_data_source.json') as f:\n",
    "    data = json.load(f)\n",
    "    labels = [s['object'] for s in data['samples']]\n",
    "    print(pd.Series({l: labels.count(l) for l in np.unique(labels)}).sort_values())"
   ]
  },
  {
   "cell_type": "code",
   "execution_count": 26,
   "id": "ba95d08f",
   "metadata": {},
   "outputs": [
    {
     "name": "stdout",
     "output_type": "stream",
     "text": [
      "German        296\n",
      "English       309\n",
      "Swedish       309\n",
      "Spanish       310\n",
      "Portuguese    311\n",
      "French        312\n",
      "Dutch         313\n",
      "Italian       315\n",
      "dtype: int64\n"
     ]
    }
   ],
   "source": [
    "with open('europarl_lang.json') as f:\n",
    "    data = json.load(f)\n",
    "    labels = [s['object'] for s in data['samples']]\n",
    "    print(pd.Series({l: labels.count(l) for l in np.unique(labels)}).sort_values())"
   ]
  },
  {
   "cell_type": "code",
   "execution_count": 28,
   "id": "f95ab90d",
   "metadata": {},
   "outputs": [
    {
     "name": "stdout",
     "output_type": "stream",
     "text": [
      "18    100\n",
      "19    100\n",
      "20    100\n",
      "dtype: int64\n"
     ]
    }
   ],
   "source": [
    "with open('centuries_300.json') as f:\n",
    "    data = json.load(f)\n",
    "    labels = [s['object'] for s in data['samples']]\n",
    "    print(pd.Series({l: labels.count(l) for l in np.unique(labels)}).sort_values())"
   ]
  },
  {
   "cell_type": "code",
   "execution_count": 30,
   "id": "731bbc13",
   "metadata": {},
   "outputs": [
    {
     "name": "stdout",
     "output_type": "stream",
     "text": [
      "Africa    150\n",
      "Asia      150\n",
      "Europe    150\n",
      "dtype: int64\n"
     ]
    }
   ],
   "source": [
    "with open('landmarks_450.json') as f:\n",
    "    data = json.load(f)\n",
    "    labels = [s['object'] for s in data['samples']]\n",
    "    print(pd.Series({l: labels.count(l) for l in np.unique(labels)}).sort_values())"
   ]
  },
  {
   "cell_type": "code",
   "execution_count": 32,
   "id": "0b37ace0",
   "metadata": {},
   "outputs": [
    {
     "name": "stdout",
     "output_type": "stream",
     "text": [
      "trumpet     51\n",
      "violin      91\n",
      "guitar     152\n",
      "piano      216\n",
      "dtype: int64\n"
     ]
    }
   ],
   "source": [
    "with open('music.json') as f:\n",
    "    data = json.load(f)\n",
    "    labels = [s['object'] for s in data['samples']]\n",
    "    print(pd.Series({l: labels.count(l) for l in np.unique(labels)}).sort_values())"
   ]
  },
  {
   "cell_type": "code",
   "execution_count": 36,
   "id": "b3574d09",
   "metadata": {},
   "outputs": [
    {
     "data": {
      "text/html": [
       "<div>\n",
       "<style scoped>\n",
       "    .dataframe tbody tr th:only-of-type {\n",
       "        vertical-align: middle;\n",
       "    }\n",
       "\n",
       "    .dataframe tbody tr th {\n",
       "        vertical-align: top;\n",
       "    }\n",
       "\n",
       "    .dataframe thead th {\n",
       "        text-align: right;\n",
       "    }\n",
       "</style>\n",
       "<table border=\"1\" class=\"dataframe\">\n",
       "  <thead>\n",
       "    <tr style=\"text-align: right;\">\n",
       "      <th></th>\n",
       "      <th>Unnamed: 0</th>\n",
       "      <th>label</th>\n",
       "      <th>layer</th>\n",
       "      <th>neuron</th>\n",
       "      <th>accuracy</th>\n",
       "      <th>f1</th>\n",
       "      <th>mode</th>\n",
       "      <th>method</th>\n",
       "      <th>model_name</th>\n",
       "      <th>probe_type</th>\n",
       "      <th>dataset</th>\n",
       "    </tr>\n",
       "  </thead>\n",
       "  <tbody>\n",
       "    <tr>\n",
       "      <th>0</th>\n",
       "      <td>0</td>\n",
       "      <td>18</td>\n",
       "      <td>0</td>\n",
       "      <td>2728.0</td>\n",
       "      <td>0.666667</td>\n",
       "      <td>0.533333</td>\n",
       "      <td>Binary</td>\n",
       "      <td>Single Neuron</td>\n",
       "      <td>pythia-1.4b</td>\n",
       "      <td>decision_tree</td>\n",
       "      <td>centuries</td>\n",
       "    </tr>\n",
       "    <tr>\n",
       "      <th>1</th>\n",
       "      <td>1</td>\n",
       "      <td>18</td>\n",
       "      <td>0</td>\n",
       "      <td>2727.0</td>\n",
       "      <td>0.666667</td>\n",
       "      <td>0.533333</td>\n",
       "      <td>Binary</td>\n",
       "      <td>Single Neuron</td>\n",
       "      <td>pythia-1.4b</td>\n",
       "      <td>decision_tree</td>\n",
       "      <td>centuries</td>\n",
       "    </tr>\n",
       "    <tr>\n",
       "      <th>2</th>\n",
       "      <td>2</td>\n",
       "      <td>18</td>\n",
       "      <td>0</td>\n",
       "      <td>2726.0</td>\n",
       "      <td>0.666667</td>\n",
       "      <td>0.533333</td>\n",
       "      <td>Binary</td>\n",
       "      <td>Single Neuron</td>\n",
       "      <td>pythia-1.4b</td>\n",
       "      <td>decision_tree</td>\n",
       "      <td>centuries</td>\n",
       "    </tr>\n",
       "    <tr>\n",
       "      <th>3</th>\n",
       "      <td>3</td>\n",
       "      <td>18</td>\n",
       "      <td>0</td>\n",
       "      <td>2725.0</td>\n",
       "      <td>0.666667</td>\n",
       "      <td>0.533333</td>\n",
       "      <td>Binary</td>\n",
       "      <td>Single Neuron</td>\n",
       "      <td>pythia-1.4b</td>\n",
       "      <td>decision_tree</td>\n",
       "      <td>centuries</td>\n",
       "    </tr>\n",
       "    <tr>\n",
       "      <th>4</th>\n",
       "      <td>4</td>\n",
       "      <td>18</td>\n",
       "      <td>0</td>\n",
       "      <td>2724.0</td>\n",
       "      <td>0.666667</td>\n",
       "      <td>0.533333</td>\n",
       "      <td>Binary</td>\n",
       "      <td>Single Neuron</td>\n",
       "      <td>pythia-1.4b</td>\n",
       "      <td>decision_tree</td>\n",
       "      <td>centuries</td>\n",
       "    </tr>\n",
       "  </tbody>\n",
       "</table>\n",
       "</div>"
      ],
      "text/plain": [
       "   Unnamed: 0 label  layer  neuron  accuracy        f1    mode         method  \\\n",
       "0           0    18      0  2728.0  0.666667  0.533333  Binary  Single Neuron   \n",
       "1           1    18      0  2727.0  0.666667  0.533333  Binary  Single Neuron   \n",
       "2           2    18      0  2726.0  0.666667  0.533333  Binary  Single Neuron   \n",
       "3           3    18      0  2725.0  0.666667  0.533333  Binary  Single Neuron   \n",
       "4           4    18      0  2724.0  0.666667  0.533333  Binary  Single Neuron   \n",
       "\n",
       "    model_name     probe_type    dataset  \n",
       "0  pythia-1.4b  decision_tree  centuries  \n",
       "1  pythia-1.4b  decision_tree  centuries  \n",
       "2  pythia-1.4b  decision_tree  centuries  \n",
       "3  pythia-1.4b  decision_tree  centuries  \n",
       "4  pythia-1.4b  decision_tree  centuries  "
      ]
     },
     "execution_count": 36,
     "metadata": {},
     "output_type": "execute_result"
    }
   ],
   "source": [
    "probing_data = pd.read_csv(f'../full_probing_results.csv')\n",
    "probing_data.head()"
   ]
  },
  {
   "cell_type": "code",
   "execution_count": 40,
   "id": "0aab2daa",
   "metadata": {},
   "outputs": [],
   "source": [
    "import seaborn as sns\n",
    "import matplotlib.pyplot as plt"
   ]
  },
  {
   "cell_type": "code",
   "execution_count": 83,
   "id": "47309205",
   "metadata": {},
   "outputs": [
    {
     "data": {
      "image/png": "[encoded data removed]",
      "text/plain": [
       "<Figure size 1500x600 with 2 Axes>"
      ]
     },
     "metadata": {},
     "output_type": "display_data"
    }
   ],
   "source": [
    "fig, axes = plt.subplots(1, 2, figsize=(15, 6))\n",
    "\n",
    "sns.barplot(probing_data.loc[probing_data['probe_type'] == 'logistic_regression']\n",
    "            , x='method', y='f1', hue='mode', ax=axes[0], capsize=.2, errorbar='ci')\n",
    "\n",
    "axes[0].set_xlabel('Probing Method')\n",
    "axes[0].set_ylabel('Mean F1 score [CI]')\n",
    "axes[0].set_title('Probe Type: Logistic Regression', fontsize=12)\n",
    "\n",
    "axes[1].set_xlabel('Probing Method')\n",
    "axes[1].set_ylabel('Mean F1 score [CI]')\n",
    "axes[1].set_title('Probe Type: Decision Tree', fontsize=12)\n",
    "\n",
    "sns.barplot(probing_data.loc[probing_data['probe_type'] == 'decision_tree']\n",
    "            , x='method', y='f1', hue='mode', ax=axes[1], capsize=.2, errorbar='ci')\n",
    "\n",
    "plt.suptitle('Overall F1 Scores Across Probing Methods', fontsize=16)\n",
    "plt.show()"
   ]
  },
  {
   "cell_type": "code",
   "execution_count": 85,
   "id": "e1d222de",
   "metadata": {},
   "outputs": [
    {
     "data": {
      "image/png": "[encoded data removed]",
      "text/plain": [
       "<Figure size 1500x600 with 2 Axes>"
      ]
     },
     "metadata": {},
     "output_type": "display_data"
    }
   ],
   "source": [
    "fig, axes = plt.subplots(1, 2, figsize=(15, 6))\n",
    "\n",
    "sns.barplot(probing_data.loc[probing_data['probe_type'] == 'logistic_regression']\n",
    "            , x='dataset', y='f1', hue='method', ax=axes[0], capsize=.2, errorbar='ci')\n",
    "\n",
    "axes[0].set_xlabel('Dataset')\n",
    "axes[0].set_ylabel('Mean F1 score [CI]')\n",
    "axes[0].set_title('Probe Type: Logistic Regression', fontsize=12)\n",
    "\n",
    "axes[1].set_xlabel('Dataset')\n",
    "axes[1].set_ylabel('Mean F1 score [CI]')\n",
    "axes[1].set_title('Probe Type: Decision Tree', fontsize=12)\n",
    "\n",
    "sns.barplot(probing_data.loc[probing_data['probe_type'] == 'decision_tree']\n",
    "            , x='dataset', y='f1', hue='method', ax=axes[1], capsize=.2, errorbar='ci')\n",
    "\n",
    "plt.suptitle('Overall F1 Scores Across Probing Methods', fontsize=16)\n",
    "plt.show()"
   ]
  },
  {
   "cell_type": "code",
   "execution_count": 74,
   "id": "507ace00",
   "metadata": {},
   "outputs": [
    {
     "name": "stdout",
     "output_type": "stream",
     "text": [
      "\u001b[1;31mSignature:\u001b[0m\n",
      "\u001b[0msns\u001b[0m\u001b[1;33m.\u001b[0m\u001b[0mbarplot\u001b[0m\u001b[1;33m(\u001b[0m\u001b[1;33m\n",
      "\u001b[0m    \u001b[0mdata\u001b[0m\u001b[1;33m=\u001b[0m\u001b[1;32mNone\u001b[0m\u001b[1;33m,\u001b[0m\u001b[1;33m\n",
      "\u001b[0m    \u001b[1;33m*\u001b[0m\u001b[1;33m,\u001b[0m\u001b[1;33m\n",
      "\u001b[0m    \u001b[0mx\u001b[0m\u001b[1;33m=\u001b[0m\u001b[1;32mNone\u001b[0m\u001b[1;33m,\u001b[0m\u001b[1;33m\n",
      "\u001b[0m    \u001b[0my\u001b[0m\u001b[1;33m=\u001b[0m\u001b[1;32mNone\u001b[0m\u001b[1;33m,\u001b[0m\u001b[1;33m\n",
      "\u001b[0m    \u001b[0mhue\u001b[0m\u001b[1;33m=\u001b[0m\u001b[1;32mNone\u001b[0m\u001b[1;33m,\u001b[0m\u001b[1;33m\n",
      "\u001b[0m    \u001b[0morder\u001b[0m\u001b[1;33m=\u001b[0m\u001b[1;32mNone\u001b[0m\u001b[1;33m,\u001b[0m\u001b[1;33m\n",
      "\u001b[0m    \u001b[0mhue_order\u001b[0m\u001b[1;33m=\u001b[0m\u001b[1;32mNone\u001b[0m\u001b[1;33m,\u001b[0m\u001b[1;33m\n",
      "\u001b[0m    \u001b[0mestimator\u001b[0m\u001b[1;33m=\u001b[0m\u001b[1;34m'mean'\u001b[0m\u001b[1;33m,\u001b[0m\u001b[1;33m\n",
      "\u001b[0m    \u001b[0merrorbar\u001b[0m\u001b[1;33m=\u001b[0m\u001b[1;33m(\u001b[0m\u001b[1;34m'ci'\u001b[0m\u001b[1;33m,\u001b[0m \u001b[1;36m95\u001b[0m\u001b[1;33m)\u001b[0m\u001b[1;33m,\u001b[0m\u001b[1;33m\n",
      "\u001b[0m    \u001b[0mn_boot\u001b[0m\u001b[1;33m=\u001b[0m\u001b[1;36m1000\u001b[0m\u001b[1;33m,\u001b[0m\u001b[1;33m\n",
      "\u001b[0m    \u001b[0mseed\u001b[0m\u001b[1;33m=\u001b[0m\u001b[1;32mNone\u001b[0m\u001b[1;33m,\u001b[0m\u001b[1;33m\n",
      "\u001b[0m    \u001b[0munits\u001b[0m\u001b[1;33m=\u001b[0m\u001b[1;32mNone\u001b[0m\u001b[1;33m,\u001b[0m\u001b[1;33m\n",
      "\u001b[0m    \u001b[0mweights\u001b[0m\u001b[1;33m=\u001b[0m\u001b[1;32mNone\u001b[0m\u001b[1;33m,\u001b[0m\u001b[1;33m\n",
      "\u001b[0m    \u001b[0morient\u001b[0m\u001b[1;33m=\u001b[0m\u001b[1;32mNone\u001b[0m\u001b[1;33m,\u001b[0m\u001b[1;33m\n",
      "\u001b[0m    \u001b[0mcolor\u001b[0m\u001b[1;33m=\u001b[0m\u001b[1;32mNone\u001b[0m\u001b[1;33m,\u001b[0m\u001b[1;33m\n",
      "\u001b[0m    \u001b[0mpalette\u001b[0m\u001b[1;33m=\u001b[0m\u001b[1;32mNone\u001b[0m\u001b[1;33m,\u001b[0m\u001b[1;33m\n",
      "\u001b[0m    \u001b[0msaturation\u001b[0m\u001b[1;33m=\u001b[0m\u001b[1;36m0.75\u001b[0m\u001b[1;33m,\u001b[0m\u001b[1;33m\n",
      "\u001b[0m    \u001b[0mfill\u001b[0m\u001b[1;33m=\u001b[0m\u001b[1;32mTrue\u001b[0m\u001b[1;33m,\u001b[0m\u001b[1;33m\n",
      "\u001b[0m    \u001b[0mhue_norm\u001b[0m\u001b[1;33m=\u001b[0m\u001b[1;32mNone\u001b[0m\u001b[1;33m,\u001b[0m\u001b[1;33m\n",
      "\u001b[0m    \u001b[0mwidth\u001b[0m\u001b[1;33m=\u001b[0m\u001b[1;36m0.8\u001b[0m\u001b[1;33m,\u001b[0m\u001b[1;33m\n",
      "\u001b[0m    \u001b[0mdodge\u001b[0m\u001b[1;33m=\u001b[0m\u001b[1;34m'auto'\u001b[0m\u001b[1;33m,\u001b[0m\u001b[1;33m\n",
      "\u001b[0m    \u001b[0mgap\u001b[0m\u001b[1;33m=\u001b[0m\u001b[1;36m0\u001b[0m\u001b[1;33m,\u001b[0m\u001b[1;33m\n",
      "\u001b[0m    \u001b[0mlog_scale\u001b[0m\u001b[1;33m=\u001b[0m\u001b[1;32mNone\u001b[0m\u001b[1;33m,\u001b[0m\u001b[1;33m\n",
      "\u001b[0m    \u001b[0mnative_scale\u001b[0m\u001b[1;33m=\u001b[0m\u001b[1;32mFalse\u001b[0m\u001b[1;33m,\u001b[0m\u001b[1;33m\n",
      "\u001b[0m    \u001b[0mformatter\u001b[0m\u001b[1;33m=\u001b[0m\u001b[1;32mNone\u001b[0m\u001b[1;33m,\u001b[0m\u001b[1;33m\n",
      "\u001b[0m    \u001b[0mlegend\u001b[0m\u001b[1;33m=\u001b[0m\u001b[1;34m'auto'\u001b[0m\u001b[1;33m,\u001b[0m\u001b[1;33m\n",
      "\u001b[0m    \u001b[0mcapsize\u001b[0m\u001b[1;33m=\u001b[0m\u001b[1;36m0\u001b[0m\u001b[1;33m,\u001b[0m\u001b[1;33m\n",
      "\u001b[0m    \u001b[0merr_kws\u001b[0m\u001b[1;33m=\u001b[0m\u001b[1;32mNone\u001b[0m\u001b[1;33m,\u001b[0m\u001b[1;33m\n",
      "\u001b[0m    \u001b[0mci\u001b[0m\u001b[1;33m=\u001b[0m\u001b[1;33m<\u001b[0m\u001b[0mdeprecated\u001b[0m\u001b[1;33m>\u001b[0m\u001b[1;33m,\u001b[0m\u001b[1;33m\n",
      "\u001b[0m    \u001b[0merrcolor\u001b[0m\u001b[1;33m=\u001b[0m\u001b[1;33m<\u001b[0m\u001b[0mdeprecated\u001b[0m\u001b[1;33m>\u001b[0m\u001b[1;33m,\u001b[0m\u001b[1;33m\n",
      "\u001b[0m    \u001b[0merrwidth\u001b[0m\u001b[1;33m=\u001b[0m\u001b[1;33m<\u001b[0m\u001b[0mdeprecated\u001b[0m\u001b[1;33m>\u001b[0m\u001b[1;33m,\u001b[0m\u001b[1;33m\n",
      "\u001b[0m    \u001b[0max\u001b[0m\u001b[1;33m=\u001b[0m\u001b[1;32mNone\u001b[0m\u001b[1;33m,\u001b[0m\u001b[1;33m\n",
      "\u001b[0m    \u001b[1;33m**\u001b[0m\u001b[0mkwargs\u001b[0m\u001b[1;33m,\u001b[0m\u001b[1;33m\n",
      "\u001b[0m\u001b[1;33m)\u001b[0m\u001b[1;33m\u001b[0m\u001b[1;33m\u001b[0m\u001b[0m\n",
      "\u001b[1;31mDocstring:\u001b[0m\n",
      "Show point estimates and errors as rectangular bars.\n",
      "\n",
      "A bar plot represents an aggregate or statistical estimate for a numeric\n",
      "variable with the height of each rectangle and indicates the uncertainty\n",
      "around that estimate using an error bar. Bar plots include 0 in the\n",
      "axis range, and they are a good choice when 0 is a meaningful value\n",
      "for the variable to take.\n",
      "\n",
      "See the :ref:`tutorial <categorical_tutorial>` for more information.\n",
      "\n",
      ".. note::\n",
      "    By default, this function treats one of the variables as categorical\n",
      "    and draws data at ordinal positions (0, 1, ... n) on the relevant axis.\n",
      "    As of version 0.13.0, this can be disabled by setting `native_scale=True`.\n",
      "\n",
      "\n",
      "Parameters\n",
      "----------\n",
      "data : DataFrame, Series, dict, array, or list of arrays\n",
      "    Dataset for plotting. If `x` and `y` are absent, this is\n",
      "    interpreted as wide-form. Otherwise it is expected to be long-form.    \n",
      "x, y, hue : names of variables in `data` or vector data\n",
      "    Inputs for plotting long-form data. See examples for interpretation.    \n",
      "order, hue_order : lists of strings\n",
      "    Order to plot the categorical levels in; otherwise the levels are\n",
      "    inferred from the data objects.    \n",
      "estimator : string or callable that maps vector -> scalar\n",
      "    Statistical function to estimate within each categorical bin.\n",
      "errorbar : string, (string, number) tuple, callable or None\n",
      "    Name of errorbar method (either \"ci\", \"pi\", \"se\", or \"sd\"), or a tuple\n",
      "    with a method name and a level parameter, or a function that maps from a\n",
      "    vector to a (min, max) interval, or None to hide errorbar. See the\n",
      "    :doc:`errorbar tutorial </tutorial/error_bars>` for more information.\n",
      "\n",
      "    .. versionadded:: v0.12.0\n",
      "n_boot : int\n",
      "    Number of bootstrap samples used to compute confidence intervals.\n",
      "seed : int, `numpy.random.Generator`, or `numpy.random.RandomState`\n",
      "    Seed or random number generator for reproducible bootstrapping.\n",
      "units : name of variable in `data` or vector data\n",
      "    Identifier of sampling units; used by the errorbar function to\n",
      "    perform a multilevel bootstrap and account for repeated measures\n",
      "weights : name of variable in `data` or vector data\n",
      "    Data values or column used to compute weighted statistics.\n",
      "    Note that the use of weights may limit other statistical options.\n",
      "\n",
      "    .. versionadded:: v0.13.1    \n",
      "orient : \"v\" | \"h\" | \"x\" | \"y\"\n",
      "    Orientation of the plot (vertical or horizontal). This is usually\n",
      "    inferred based on the type of the input variables, but it can be used\n",
      "    to resolve ambiguity when both `x` and `y` are numeric or when\n",
      "    plotting wide-form data.\n",
      "\n",
      "    .. versionchanged:: v0.13.0\n",
      "        Added 'x'/'y' as options, equivalent to 'v'/'h'.    \n",
      "color : matplotlib color\n",
      "    Single color for the elements in the plot.    \n",
      "palette : palette name, list, or dict\n",
      "    Colors to use for the different levels of the ``hue`` variable. Should\n",
      "    be something that can be interpreted by :func:`color_palette`, or a\n",
      "    dictionary mapping hue levels to matplotlib colors.    \n",
      "saturation : float\n",
      "    Proportion of the original saturation to draw fill colors in. Large\n",
      "    patches often look better with desaturated colors, but set this to\n",
      "    `1` if you want the colors to perfectly match the input values.    \n",
      "fill : bool\n",
      "    If True, use a solid patch. Otherwise, draw as line art.\n",
      "\n",
      "    .. versionadded:: v0.13.0    \n",
      "hue_norm : tuple or :class:`matplotlib.colors.Normalize` object\n",
      "    Normalization in data units for colormap applied to the `hue`\n",
      "    variable when it is numeric. Not relevant if `hue` is categorical.\n",
      "\n",
      "    .. versionadded:: v0.12.0    \n",
      "width : float\n",
      "    Width allotted to each element on the orient axis. When `native_scale=True`,\n",
      "    it is relative to the minimum distance between two values in the native scale.    \n",
      "dodge : \"auto\" or bool\n",
      "    When hue mapping is used, whether elements should be narrowed and shifted along\n",
      "    the orient axis to eliminate overlap. If `\"auto\"`, set to `True` when the\n",
      "    orient variable is crossed with the categorical variable or `False` otherwise.\n",
      "\n",
      "    .. versionchanged:: 0.13.0\n",
      "\n",
      "        Added `\"auto\"` mode as a new default.    \n",
      "gap : float\n",
      "    Shrink on the orient axis by this factor to add a gap between dodged elements.\n",
      "\n",
      "    .. versionadded:: 0.13.0    \n",
      "log_scale : bool or number, or pair of bools or numbers\n",
      "    Set axis scale(s) to log. A single value sets the data axis for any numeric\n",
      "    axes in the plot. A pair of values sets each axis independently.\n",
      "    Numeric values are interpreted as the desired base (default 10).\n",
      "    When `None` or `False`, seaborn defers to the existing Axes scale.\n",
      "\n",
      "    .. versionadded:: v0.13.0    \n",
      "native_scale : bool\n",
      "    When True, numeric or datetime values on the categorical axis will maintain\n",
      "    their original scaling rather than being converted to fixed indices.\n",
      "\n",
      "    .. versionadded:: v0.13.0    \n",
      "formatter : callable\n",
      "    Function for converting categorical data into strings. Affects both grouping\n",
      "    and tick labels.\n",
      "\n",
      "    .. versionadded:: v0.13.0    \n",
      "legend : \"auto\", \"brief\", \"full\", or False\n",
      "    How to draw the legend. If \"brief\", numeric `hue` and `size`\n",
      "    variables will be represented with a sample of evenly spaced values.\n",
      "    If \"full\", every group will get an entry in the legend. If \"auto\",\n",
      "    choose between brief or full representation based on number of levels.\n",
      "    If `False`, no legend data is added and no legend is drawn.\n",
      "\n",
      "    .. versionadded:: v0.13.0    \n",
      "capsize : float\n",
      "    Width of the \"caps\" on error bars, relative to bar spacing.    \n",
      "err_kws : dict\n",
      "    Parameters of :class:`matplotlib.lines.Line2D`, for the error bar artists.\n",
      "\n",
      "    .. versionadded:: v0.13.0    \n",
      "ci : float\n",
      "    Level of the confidence interval to show, in [0, 100].\n",
      "\n",
      "    .. deprecated:: v0.12.0\n",
      "        Use `errorbar=(\"ci\", ...)`.    \n",
      "errcolor : matplotlib color\n",
      "    Color used for the error bar lines.\n",
      "\n",
      "    .. deprecated:: 0.13.0\n",
      "        Use `err_kws={'color': ...}`.    \n",
      "errwidth : float\n",
      "    Thickness of error bar lines (and caps), in points.\n",
      "\n",
      "    .. deprecated:: 0.13.0\n",
      "        Use `err_kws={'linewidth': ...}`.    \n",
      "ax : matplotlib Axes\n",
      "    Axes object to draw the plot onto, otherwise uses the current Axes.    \n",
      "kwargs : key, value mappings\n",
      "    Other parameters are passed through to :class:`matplotlib.patches.Rectangle`.\n",
      "\n",
      "Returns\n",
      "-------\n",
      "ax : matplotlib Axes\n",
      "    Returns the Axes object with the plot drawn onto it.    \n",
      "\n",
      "See Also\n",
      "--------\n",
      "countplot : Show the counts of observations in each categorical bin.    \n",
      "pointplot : Show point estimates and confidence intervals using dots.    \n",
      "catplot : Combine a categorical plot with a :class:`FacetGrid`.    \n",
      "\n",
      "Notes\n",
      "-----\n",
      "\n",
      "For datasets where 0 is not a meaningful value, a :func:`pointplot` will\n",
      "allow you to focus on differences between levels of one or more categorical\n",
      "variables.\n",
      "\n",
      "It is also important to keep in mind that a bar plot shows only the mean (or\n",
      "other aggregate) value, but it is often more informative to show the\n",
      "distribution of values at each level of the categorical variables. In those\n",
      "cases, approaches such as a :func:`boxplot` or :func:`violinplot` may be\n",
      "more appropriate.\n",
      "\n",
      "Examples\n",
      "--------\n",
      ".. include:: ../docstrings/barplot.rst\n",
      "\u001b[1;31mFile:\u001b[0m      c:\\users\\97254\\appdata\\local\\programs\\python\\python311\\lib\\site-packages\\seaborn\\categorical.py\n",
      "\u001b[1;31mType:\u001b[0m      function"
     ]
    }
   ],
   "source": [
    "sns.barplot?"
   ]
  },
  {
   "cell_type": "code",
   "execution_count": null,
   "id": "3c675a7d",
   "metadata": {},
   "outputs": [],
   "source": []
  }
 ],
 "metadata": {
  "kernelspec": {
   "display_name": "Python 3",
   "language": "python",
   "name": "python3"
  },
  "language_info": {
   "codemirror_mode": {
    "name": "ipython",
    "version": 3
   },
   "file_extension": ".py",
   "mimetype": "text/x-python",
   "name": "python",
   "nbconvert_exporter": "python",
   "pygments_lexer": "ipython3",
   "version": "3.11.4"
  }
 },
 "nbformat": 4,
 "nbformat_minor": 5
}
